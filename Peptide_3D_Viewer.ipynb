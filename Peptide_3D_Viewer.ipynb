{
 "cells": [
  {
   "cell_type": "markdown",
   "metadata": {},
   "source": [
    "# 🧬 Peptide 3D Structure Viewer\n",
    "This Colab notebook lets you enter a peptide sequence and view its **3D structure** interactively using `py3Dmol`."
   ]
  },
  {
   "cell_type": "code",
   "execution_count": null,
   "metadata": {},
   "outputs": [],
   "source": [
    "# 📌 Install dependencies from requirements.txt in your GitHub/HuggingFace repo\n",
    "!pip install -r https://raw.githubusercontent.com/<your-username>/<your-repo>/main/requirements.txt"
   ]
  },
  {
   "cell_type": "code",
   "execution_count": null,
   "metadata": {},
   "outputs": [],
   "source": [
    "# 📌 Imports\n",
    "from Bio.PDB import PDBIO\n",
    "import PeptideBuilder\n",
    "from PeptideBuilder import Geometry\n",
    "import py3Dmol"
   ]
  },
  {
   "cell_type": "code",
   "execution_count": null,
   "metadata": {},
   "outputs": [],
   "source": [
    "# 📌 Function to build peptide PDB structure\n",
    "def build_peptide_pdb(seq: str) -> str:\n",
    "    structure = PeptideBuilder.initialize_res(seq[0])\n",
    "    for aa in seq[1:]:\n",
    "        geom = Geometry.geometry(aa)\n",
    "        PeptideBuilder.add_residue(structure, geom)\n",
    "    io = PDBIO()\n",
    "    io.set_structure(structure)\n",
    "    pdb_path = \"peptide.pdb\"\n",
    "    io.save(pdb_path)\n",
    "    with open(pdb_path, \"r\") as f:\n",
    "        return f.read()"
   ]
  },
  {
   "cell_type": "code",
   "execution_count": null,
   "metadata": {},
   "outputs": [],
   "source": [
    "# 📌 Function to view peptide in 3D\n",
    "def view_peptide(seq: str):\n",
    "    pdb_str = build_peptide_pdb(seq)\n",
    "    view = py3Dmol.view(width=600, height=400)\n",
    "    view.addModel(pdb_str, \"pdb\")\n",
    "    view.setStyle({\"cartoon\": {\"color\": \"spectrum\"}})\n",
    "    view.zoomTo()\n",
    "    return view.show()"
   ]
  },
  {
   "cell_type": "code",
   "execution_count": null,
   "metadata": {},
   "outputs": [],
   "source": [
    "# 🧪 Example Usage\n",
    "sequence = \"EDEGEQPRPF\"  # Change this to your peptide sequence\n",
    "view_peptide(sequence)"
   ]
  }
 ],
 "metadata": {
  "colab": {
   "provenance": []
  },
  "kernelspec": {
   "display_name": "Python 3",
   "language": "python",
   "name": "python3"
  },
  "language_info": {
   "name": "python"
  }
 },
 "nbformat": 4,
 "nbformat_minor": 0
}
